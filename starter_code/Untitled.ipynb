{
 "cells": [
  {
   "cell_type": "code",
   "execution_count": 1,
   "metadata": {},
   "outputs": [],
   "source": [
    "# Dependencies and Setup\n",
    "import matplotlib.pyplot as plt\n",
    "import pandas as pd\n",
    "import numpy as np\n",
    "import requests as req\n",
    "import time\n",
    "import seaborn as sns\n",
    "from scipy.stats import linregress\n",
    "import random\n",
    "pd.options.mode.chained_assignment = None\n",
    "api_key = \"1453be9086f2afdefafaffd83b66b68e\"\n",
    "\n",
    "# Import API key\n",
    "from api_keys import weather_api_key\n",
    "\n",
    "# Incorporated citipy to determine city based on latitude and longitude\n",
    "from citipy import citipy\n",
    "\n",
    "# Output File (CSV)\n",
    "output_data_file = \"output_data/cities.csv\"\n",
    "\n",
    "# Range of latitudes and longitudes\n",
    "lat_range = (-90, 90)\n",
    "lng_range = (-180, 180)"
   ]
  },
  {
   "cell_type": "code",
   "execution_count": 2,
   "metadata": {},
   "outputs": [
    {
     "name": "stdout",
     "output_type": "stream",
     "text": [
      "            Lat         Lng City Temperature Humidity Clouds Wind Speed\n",
      "0     52.147333  111.758514  NaN         NaN      NaN    NaN        NaN\n",
      "1    -47.734049 -132.384212  NaN         NaN      NaN    NaN        NaN\n",
      "2     76.157018  -39.318444  NaN         NaN      NaN    NaN        NaN\n",
      "3    -12.540215 -130.019796  NaN         NaN      NaN    NaN        NaN\n",
      "4      5.946308 -138.817037  NaN         NaN      NaN    NaN        NaN\n",
      "...         ...         ...  ...         ...      ...    ...        ...\n",
      "1495 -85.268552   73.262890  NaN         NaN      NaN    NaN        NaN\n",
      "1496   7.532638 -109.050375  NaN         NaN      NaN    NaN        NaN\n",
      "1497   3.437537 -137.262974  NaN         NaN      NaN    NaN        NaN\n",
      "1498  77.006914  171.750967  NaN         NaN      NaN    NaN        NaN\n",
      "1499 -79.129981  -61.294905  NaN         NaN      NaN    NaN        NaN\n",
      "\n",
      "[1500 rows x 7 columns]\n"
     ]
    }
   ],
   "source": [
    "loc= pd.DataFrame(columns =['Lat',\"Lng\",\"City\",\"Temperature\",\"Humidity\",\"Clouds\",\"Wind Speed\"])\n",
    "lat = []\n",
    "lng = []\n",
    "for x in range(0,1500):\n",
    "    lat.append(random.uniform(-90,90))\n",
    "    lng.append(random.uniform(-180,180))\n",
    "loc['Lat']=lat\n",
    "loc['Lng']=lng\n",
    "print(loc)"
   ]
  },
  {
   "cell_type": "code",
   "execution_count": 3,
   "metadata": {},
   "outputs": [
    {
     "data": {
      "text/html": [
       "<div>\n",
       "<style scoped>\n",
       "    .dataframe tbody tr th:only-of-type {\n",
       "        vertical-align: middle;\n",
       "    }\n",
       "\n",
       "    .dataframe tbody tr th {\n",
       "        vertical-align: top;\n",
       "    }\n",
       "\n",
       "    .dataframe thead th {\n",
       "        text-align: right;\n",
       "    }\n",
       "</style>\n",
       "<table border=\"1\" class=\"dataframe\">\n",
       "  <thead>\n",
       "    <tr style=\"text-align: right;\">\n",
       "      <th></th>\n",
       "      <th>Lat</th>\n",
       "      <th>Lng</th>\n",
       "      <th>City</th>\n",
       "      <th>Temperature</th>\n",
       "      <th>Humidity</th>\n",
       "      <th>Clouds</th>\n",
       "      <th>Wind Speed</th>\n",
       "    </tr>\n",
       "  </thead>\n",
       "  <tbody>\n",
       "    <tr>\n",
       "      <th>0</th>\n",
       "      <td>52.147333</td>\n",
       "      <td>111.758514</td>\n",
       "      <td>sosnovo-ozerskoye</td>\n",
       "      <td>NaN</td>\n",
       "      <td>NaN</td>\n",
       "      <td>NaN</td>\n",
       "      <td>NaN</td>\n",
       "    </tr>\n",
       "    <tr>\n",
       "      <th>1</th>\n",
       "      <td>-47.734049</td>\n",
       "      <td>-132.384212</td>\n",
       "      <td>rikitea</td>\n",
       "      <td>NaN</td>\n",
       "      <td>NaN</td>\n",
       "      <td>NaN</td>\n",
       "      <td>NaN</td>\n",
       "    </tr>\n",
       "    <tr>\n",
       "      <th>2</th>\n",
       "      <td>76.157018</td>\n",
       "      <td>-39.318444</td>\n",
       "      <td>tasiilaq</td>\n",
       "      <td>NaN</td>\n",
       "      <td>NaN</td>\n",
       "      <td>NaN</td>\n",
       "      <td>NaN</td>\n",
       "    </tr>\n",
       "    <tr>\n",
       "      <th>3</th>\n",
       "      <td>-12.540215</td>\n",
       "      <td>-130.019796</td>\n",
       "      <td>atuona</td>\n",
       "      <td>NaN</td>\n",
       "      <td>NaN</td>\n",
       "      <td>NaN</td>\n",
       "      <td>NaN</td>\n",
       "    </tr>\n",
       "    <tr>\n",
       "      <th>4</th>\n",
       "      <td>5.946308</td>\n",
       "      <td>-138.817037</td>\n",
       "      <td>atuona</td>\n",
       "      <td>NaN</td>\n",
       "      <td>NaN</td>\n",
       "      <td>NaN</td>\n",
       "      <td>NaN</td>\n",
       "    </tr>\n",
       "  </tbody>\n",
       "</table>\n",
       "</div>"
      ],
      "text/plain": [
       "         Lat         Lng               City Temperature Humidity Clouds  \\\n",
       "0  52.147333  111.758514  sosnovo-ozerskoye         NaN      NaN    NaN   \n",
       "1 -47.734049 -132.384212            rikitea         NaN      NaN    NaN   \n",
       "2  76.157018  -39.318444           tasiilaq         NaN      NaN    NaN   \n",
       "3 -12.540215 -130.019796             atuona         NaN      NaN    NaN   \n",
       "4   5.946308 -138.817037             atuona         NaN      NaN    NaN   \n",
       "\n",
       "  Wind Speed  \n",
       "0        NaN  \n",
       "1        NaN  \n",
       "2        NaN  \n",
       "3        NaN  \n",
       "4        NaN  "
      ]
     },
     "execution_count": 3,
     "metadata": {},
     "output_type": "execute_result"
    }
   ],
   "source": [
    "#find the cities based on the coordinates\n",
    "cities =[]\n",
    "for index, row in loc.iterrows():\n",
    "    city=citipy.nearest_city(row[\"Lat\"],row[\"Lng\"])\n",
    "    cities.append(city.city_name)\n",
    "loc['City']=cities\n",
    "loc.head()"
   ]
  },
  {
   "cell_type": "code",
   "execution_count": 4,
   "metadata": {},
   "outputs": [
    {
     "data": {
      "text/plain": [
       "595"
      ]
     },
     "execution_count": 4,
     "metadata": {},
     "output_type": "execute_result"
    }
   ],
   "source": [
    "#check there are 500+ unique cities\n",
    "loc_data = loc.drop_duplicates(\"City\",keep=\"first\")\n",
    "len(loc_data)"
   ]
  },
  {
   "cell_type": "code",
   "execution_count": 5,
   "metadata": {},
   "outputs": [],
   "source": [
    "#create empty arrays to store the data for temperature, humidity, clouds, and wind speed \n",
    "temp = []\n",
    "humidity =[]\n",
    "clouds = []\n",
    "wind = []"
   ]
  },
  {
   "cell_type": "code",
   "execution_count": 11,
   "metadata": {},
   "outputs": [
    {
     "name": "stdout",
     "output_type": "stream",
     "text": [
      "we are now on city number 1\n",
      "The name of the city is sosnovo-ozerskoye\n",
      "https://api.openweathermap.org/data/2.5/weather?q=sosnovo-ozerskoye&appid=1453be9086f2afdefafaffd83b66b68e&units=imperial\n",
      "__________________________________________________________________________________________\n",
      "we are now on city number 2\n",
      "The name of the city is rikitea\n",
      "https://api.openweathermap.org/data/2.5/weather?q=rikitea&appid=1453be9086f2afdefafaffd83b66b68e&units=imperial\n",
      "__________________________________________________________________________________________\n",
      "we are now on city number 3\n",
      "The name of the city is tasiilaq\n",
      "https://api.openweathermap.org/data/2.5/weather?q=tasiilaq&appid=1453be9086f2afdefafaffd83b66b68e&units=imperial\n",
      "__________________________________________________________________________________________\n",
      "we are now on city number 4\n",
      "The name of the city is atuona\n",
      "https://api.openweathermap.org/data/2.5/weather?q=atuona&appid=1453be9086f2afdefafaffd83b66b68e&units=imperial\n",
      "__________________________________________________________________________________________\n",
      "we are now on city number 5\n",
      "The name of the city is ribeira grande\n",
      "https://api.openweathermap.org/data/2.5/weather?q=ribeira grande&appid=1453be9086f2afdefafaffd83b66b68e&units=imperial\n",
      "__________________________________________________________________________________________\n",
      "we are now on city number 6\n",
      "The name of the city is arraial do cabo\n",
      "https://api.openweathermap.org/data/2.5/weather?q=arraial do cabo&appid=1453be9086f2afdefafaffd83b66b68e&units=imperial\n",
      "__________________________________________________________________________________________\n",
      "we are now on city number 7\n",
      "The name of the city is hithadhoo\n",
      "https://api.openweathermap.org/data/2.5/weather?q=hithadhoo&appid=1453be9086f2afdefafaffd83b66b68e&units=imperial\n",
      "__________________________________________________________________________________________\n",
      "we are now on city number 8\n",
      "The name of the city is taolanaro\n",
      "https://api.openweathermap.org/data/2.5/weather?q=taolanaro&appid=1453be9086f2afdefafaffd83b66b68e&units=imperial\n",
      "__________________________________________________________________________________________\n"
     ]
    },
    {
     "ename": "KeyError",
     "evalue": "'main'",
     "output_type": "error",
     "traceback": [
      "\u001b[1;31m---------------------------------------------------------------------------\u001b[0m",
      "\u001b[1;31mKeyError\u001b[0m                                  Traceback (most recent call last)",
      "\u001b[1;32m<ipython-input-11-f837d7a0cc5c>\u001b[0m in \u001b[0;36m<module>\u001b[1;34m\u001b[0m\n\u001b[0;32m     16\u001b[0m     \u001b[0mprint\u001b[0m\u001b[1;33m(\u001b[0m\u001b[1;34m\"__________________________________________________________________________________________\"\u001b[0m\u001b[1;33m)\u001b[0m\u001b[1;33m\u001b[0m\u001b[1;33m\u001b[0m\u001b[0m\n\u001b[0;32m     17\u001b[0m     \u001b[0minfo\u001b[0m \u001b[1;33m=\u001b[0m \u001b[0mreq\u001b[0m\u001b[1;33m.\u001b[0m\u001b[0mget\u001b[0m\u001b[1;33m(\u001b[0m\u001b[0mtarget_url\u001b[0m\u001b[1;33m)\u001b[0m\u001b[1;33m.\u001b[0m\u001b[0mjson\u001b[0m\u001b[1;33m(\u001b[0m\u001b[1;33m)\u001b[0m\u001b[1;33m\u001b[0m\u001b[1;33m\u001b[0m\u001b[0m\n\u001b[1;32m---> 18\u001b[1;33m     \u001b[0mtemp\u001b[0m\u001b[1;33m.\u001b[0m\u001b[0mappend\u001b[0m\u001b[1;33m(\u001b[0m\u001b[0minfo\u001b[0m\u001b[1;33m[\u001b[0m\u001b[1;34m'main'\u001b[0m\u001b[1;33m]\u001b[0m\u001b[1;33m[\u001b[0m\u001b[1;34m'temp'\u001b[0m\u001b[1;33m]\u001b[0m\u001b[1;33m)\u001b[0m\u001b[1;33m\u001b[0m\u001b[1;33m\u001b[0m\u001b[0m\n\u001b[0m\u001b[0;32m     19\u001b[0m     \u001b[0mhumidity\u001b[0m\u001b[1;33m.\u001b[0m\u001b[0mappend\u001b[0m\u001b[1;33m(\u001b[0m\u001b[0minfo\u001b[0m\u001b[1;33m[\u001b[0m\u001b[1;34m'main'\u001b[0m\u001b[1;33m]\u001b[0m\u001b[1;33m[\u001b[0m\u001b[1;34m'humidity'\u001b[0m\u001b[1;33m]\u001b[0m\u001b[1;33m)\u001b[0m\u001b[1;33m\u001b[0m\u001b[1;33m\u001b[0m\u001b[0m\n\u001b[0;32m     20\u001b[0m     \u001b[0mclouds\u001b[0m\u001b[1;33m.\u001b[0m\u001b[0mappend\u001b[0m\u001b[1;33m(\u001b[0m\u001b[0minfo\u001b[0m\u001b[1;33m[\u001b[0m\u001b[1;34m'clouds'\u001b[0m\u001b[1;33m]\u001b[0m\u001b[1;33m[\u001b[0m\u001b[1;34m'all'\u001b[0m\u001b[1;33m]\u001b[0m\u001b[1;33m)\u001b[0m\u001b[1;33m\u001b[0m\u001b[1;33m\u001b[0m\u001b[0m\n",
      "\u001b[1;31mKeyError\u001b[0m: 'main'"
     ]
    }
   ],
   "source": [
    "counter = 0\n",
    "url = \"https://api.openweathermap.org/data/2.5/weather?q=\"\n",
    "units = \"imperial\"\n",
    "\n",
    "# Replace spaces with %20 to create url correctly \n",
    "city = city.replace(\" \", \"%20\")\n",
    "\n",
    "#iterate through the rows to pull data from the api \n",
    "for index, row in loc_data.iterrows():\n",
    "    counter +=1\n",
    "    city = row[\"City\"]\n",
    "    target_url = url+city+\"&appid=\"+api_key+\"&units=\"+units\n",
    "    print(\"we are now on city number \"+str(counter))\n",
    "    print(\"The name of the city is \"+row[\"City\"])\n",
    "    print(target_url)\n",
    "    print(\"__________________________________________________________________________________________\")\n",
    "    info = req.get(target_url).json()\n",
    "    temp.append(info['main']['temp'])\n",
    "    humidity.append(info['main']['humidity'])\n",
    "    clouds.append(info['clouds']['all'])\n",
    "    wind.append(info['wind']['speed'])\n",
    "    time.sleep(1)\n",
    "#assign the values from the arrays to the data frame\n",
    "loc_data[\"Temperature\"]=temp\n",
    "loc_data[\"Humidity\"]=humidity\n",
    "loc_data[\"Clouds\"]=clouds\n",
    "loc_data[\"Wind Speed\"]=wind"
   ]
  }
 ],
 "metadata": {
  "kernelspec": {
   "display_name": "Python 3",
   "language": "python",
   "name": "python3"
  },
  "language_info": {
   "codemirror_mode": {
    "name": "ipython",
    "version": 3
   },
   "file_extension": ".py",
   "mimetype": "text/x-python",
   "name": "python",
   "nbconvert_exporter": "python",
   "pygments_lexer": "ipython3",
   "version": "3.7.6"
  }
 },
 "nbformat": 4,
 "nbformat_minor": 4
}
